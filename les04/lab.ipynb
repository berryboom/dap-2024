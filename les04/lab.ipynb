{
  "cells": [
    {
      "cell_type": "markdown",
      "metadata": {
        "id": "view-in-github",
        "colab_type": "text"
      },
      "source": [
        "<a href=\"https://colab.research.google.com/github/berryboom/dap-2024/blob/main/les04/lab.ipynb\" target=\"_parent\"><img src=\"https://colab.research.google.com/assets/colab-badge.svg\" alt=\"Open In Colab\"/></a>"
      ]
    },
    {
      "cell_type": "markdown",
      "metadata": {
        "id": "N1uzYZQCzP7V"
      },
      "source": [
        "# Лабораторная работа №4.\n",
        "# Анализ данных пассажиров \"Титаника\"\n",
        "\n",
        "Гибель Титаника – одно из самых печально известных кораблекрушений в истории.\n",
        "\n",
        "15 апреля 1912 года во время своего первого плавания считавшийся «непотопляемым» «Титаник» затонул после столкновения с айсбергом.\n",
        "К сожалению, спасательных шлюпок для всех находившихся на борту не хватило, в результате чего погибли 1502 из 2224 пассажиров и членов экипажа.\n",
        "\n",
        "Используя набор данных titanic.csv выполните следующие 10 заданий."
      ]
    },
    {
      "cell_type": "code",
      "execution_count": null,
      "metadata": {
        "id": "LH2zJY9hzP7X"
      },
      "outputs": [],
      "source": [
        "import numpy as np\n",
        "import pandas as pd\n"
      ]
    },
    {
      "cell_type": "markdown",
      "metadata": {
        "id": "1B5H3qF5zP7X"
      },
      "source": [
        "1. Создайте DataFarame из файла titanic.csv, в качестве индекса используйте столбец \"PassengerId\""
      ]
    },
    {
      "cell_type": "code",
      "execution_count": null,
      "metadata": {
        "colab": {
          "base_uri": "https://localhost:8080/"
        },
        "id": "V1hyNwxSzP7X",
        "outputId": "f722e38f-7f53-427a-edaa-6d46abf4b5e9"
      },
      "outputs": [
        {
          "output_type": "stream",
          "name": "stdout",
          "text": [
            "             Survived  Pclass  \\\n",
            "PassengerId                     \n",
            "1                   0       3   \n",
            "2                   1       1   \n",
            "3                   1       3   \n",
            "4                   1       1   \n",
            "5                   0       3   \n",
            "\n",
            "                                                          Name     Sex   Age  \\\n",
            "PassengerId                                                                    \n",
            "1                                      Braund, Mr. Owen Harris    male  22.0   \n",
            "2            Cumings, Mrs. John Bradley (Florence Briggs Th...  female  38.0   \n",
            "3                                       Heikkinen, Miss. Laina  female  26.0   \n",
            "4                 Futrelle, Mrs. Jacques Heath (Lily May Peel)  female  35.0   \n",
            "5                                     Allen, Mr. William Henry    male  35.0   \n",
            "\n",
            "             SibSp  Parch            Ticket     Fare Cabin Embarked  \n",
            "PassengerId                                                          \n",
            "1                1      0         A/5 21171   7.2500   NaN        S  \n",
            "2                1      0          PC 17599  71.2833   C85        C  \n",
            "3                0      0  STON/O2. 3101282   7.9250   NaN        S  \n",
            "4                1      0            113803  53.1000  C123        S  \n",
            "5                0      0            373450   8.0500   NaN        S  \n"
          ]
        }
      ],
      "source": [
        "import pandas as pd\n",
        "\n",
        "# Загрузка данных из файла titanic.csv\n",
        "df = pd.read_csv('titanic.csv', index_col='PassengerId')\n",
        "\n",
        "# Вывод первых нескольких строк DataFrame\n",
        "print(df.head())"
      ]
    },
    {
      "cell_type": "markdown",
      "metadata": {
        "id": "MZ0Ih0rozP7Y"
      },
      "source": [
        "2. Просмотрите первые 6 строк"
      ]
    },
    {
      "cell_type": "code",
      "execution_count": null,
      "metadata": {
        "colab": {
          "base_uri": "https://localhost:8080/"
        },
        "id": "SmdNzOzuzP7Y",
        "outputId": "a15d5bb3-b06e-4b69-b9eb-315983a6fcd3"
      },
      "outputs": [
        {
          "output_type": "stream",
          "name": "stdout",
          "text": [
            "             Survived  Pclass  \\\n",
            "PassengerId                     \n",
            "1                   0       3   \n",
            "2                   1       1   \n",
            "3                   1       3   \n",
            "4                   1       1   \n",
            "5                   0       3   \n",
            "6                   0       3   \n",
            "\n",
            "                                                          Name     Sex   Age  \\\n",
            "PassengerId                                                                    \n",
            "1                                      Braund, Mr. Owen Harris    male  22.0   \n",
            "2            Cumings, Mrs. John Bradley (Florence Briggs Th...  female  38.0   \n",
            "3                                       Heikkinen, Miss. Laina  female  26.0   \n",
            "4                 Futrelle, Mrs. Jacques Heath (Lily May Peel)  female  35.0   \n",
            "5                                     Allen, Mr. William Henry    male  35.0   \n",
            "6                                             Moran, Mr. James    male   NaN   \n",
            "\n",
            "             SibSp  Parch            Ticket     Fare Cabin Embarked  \n",
            "PassengerId                                                          \n",
            "1                1      0         A/5 21171   7.2500   NaN        S  \n",
            "2                1      0          PC 17599  71.2833   C85        C  \n",
            "3                0      0  STON/O2. 3101282   7.9250   NaN        S  \n",
            "4                1      0            113803  53.1000  C123        S  \n",
            "5                0      0            373450   8.0500   NaN        S  \n",
            "6                0      0            330877   8.4583   NaN        Q  \n"
          ]
        }
      ],
      "source": [
        "import pandas as pd\n",
        "\n",
        "# Загрузка данных из файла titanic.csv\n",
        "df = pd.read_csv('titanic.csv', index_col='PassengerId')\n",
        "\n",
        "# Вывод первых 6 строк DataFrame\n",
        "print(df.head(6))"
      ]
    },
    {
      "cell_type": "markdown",
      "metadata": {
        "id": "RvnVi1_CzP7Y"
      },
      "source": [
        "3. Выведите описание данных"
      ]
    },
    {
      "cell_type": "code",
      "execution_count": null,
      "metadata": {
        "colab": {
          "base_uri": "https://localhost:8080/"
        },
        "id": "AFNj561czP7Y",
        "outputId": "2a10befe-3806-405d-9375-ff256d752b4c"
      },
      "outputs": [
        {
          "output_type": "stream",
          "name": "stdout",
          "text": [
            "         Survived      Pclass         Age       SibSp       Parch        Fare\n",
            "count  891.000000  891.000000  714.000000  891.000000  891.000000  891.000000\n",
            "mean     0.383838    2.308642   29.699118    0.523008    0.381594   32.204208\n",
            "std      0.486592    0.836071   14.526497    1.102743    0.806057   49.693429\n",
            "min      0.000000    1.000000    0.420000    0.000000    0.000000    0.000000\n",
            "25%      0.000000    2.000000   20.125000    0.000000    0.000000    7.910400\n",
            "50%      0.000000    3.000000   28.000000    0.000000    0.000000   14.454200\n",
            "75%      1.000000    3.000000   38.000000    1.000000    0.000000   31.000000\n",
            "max      1.000000    3.000000   80.000000    8.000000    6.000000  512.329200\n"
          ]
        }
      ],
      "source": [
        "import pandas as pd\n",
        "\n",
        "# Загрузка данных из файла titanic.csv\n",
        "df = pd.read_csv('titanic.csv', index_col='PassengerId')\n",
        "\n",
        "# Вывод описания данных\n",
        "print(df.describe())"
      ]
    },
    {
      "cell_type": "markdown",
      "metadata": {
        "id": "eTZMprJzzP7Y"
      },
      "source": [
        "4. Сколько мужчин / женщин находилось на борту?"
      ]
    },
    {
      "cell_type": "code",
      "execution_count": null,
      "metadata": {
        "colab": {
          "base_uri": "https://localhost:8080/"
        },
        "id": "vfHJcrEnzP7Y",
        "outputId": "4ded26dc-49c5-43c9-dca6-972aed5f0c0a"
      },
      "outputs": [
        {
          "output_type": "stream",
          "name": "stdout",
          "text": [
            "Sex\n",
            "male      577\n",
            "female    314\n",
            "Name: count, dtype: int64\n"
          ]
        }
      ],
      "source": [
        "import pandas as pd\n",
        "\n",
        "# Загрузка данных из файла titanic.csv\n",
        "df = pd.read_csv('titanic.csv', index_col='PassengerId')\n",
        "\n",
        "# Подсчет количества мужчин и женщин\n",
        "gender_counts = df['Sex'].value_counts()\n",
        "print(gender_counts)"
      ]
    },
    {
      "cell_type": "markdown",
      "metadata": {
        "id": "AQLiW56pzP7Y"
      },
      "source": [
        "4. Выведите распределение переменной Pclass (социально-экономический статус) и это же распределение, только для мужчин / женщин по отдельности. Сколько было мужчин 2-го класса"
      ]
    },
    {
      "cell_type": "code",
      "execution_count": null,
      "metadata": {
        "colab": {
          "base_uri": "https://localhost:8080/"
        },
        "id": "_a9W9uxOzP7Y",
        "outputId": "8793ec3e-25d8-41b7-e34f-48b281e9c2fc"
      },
      "outputs": [
        {
          "output_type": "stream",
          "name": "stdout",
          "text": [
            "Распределение Pclass:\n",
            "Pclass\n",
            "3    491\n",
            "1    216\n",
            "2    184\n",
            "Name: count, dtype: int64\n",
            "\n",
            "Распределение Pclass для мужчин:\n",
            "Pclass\n",
            "3    347\n",
            "1    122\n",
            "2    108\n",
            "Name: count, dtype: int64\n",
            "\n",
            "Распределение Pclass для женщин:\n",
            "Pclass\n",
            "3    144\n",
            "1     94\n",
            "2     76\n",
            "Name: count, dtype: int64\n",
            "\n",
            "Количество мужчин 2-го класса: 108\n"
          ]
        }
      ],
      "source": [
        "import pandas as pd\n",
        "\n",
        "# Загрузка данных из файла titanic.csv\n",
        "df = pd.read_csv('titanic.csv', index_col='PassengerId')\n",
        "\n",
        "# Распределение переменной Pclass\n",
        "pclass_distribution = df['Pclass'].value_counts()\n",
        "print(\"Распределение Pclass:\")\n",
        "print(pclass_distribution)\n",
        "\n",
        "# Распределение Pclass для мужчин\n",
        "pclass_distribution_men = df[df['Sex'] == 'male']['Pclass'].value_counts()\n",
        "print(\"\\nРаспределение Pclass для мужчин:\")\n",
        "print(pclass_distribution_men)\n",
        "\n",
        "# Распределение Pclass для женщин\n",
        "pclass_distribution_women = df[df['Sex'] == 'female']['Pclass'].value_counts()\n",
        "print(\"\\nРаспределение Pclass для женщин:\")\n",
        "print(pclass_distribution_women)\n",
        "\n",
        "# Количество мужчин 2-го класса\n",
        "men_class_2_count = pclass_distribution_men.get(2, 0)  # Получаем количество мужчин 2-го класса, если его нет - 0\n",
        "print(f\"\\nКоличество мужчин 2-го класса: {men_class_2_count}\")"
      ]
    },
    {
      "cell_type": "markdown",
      "metadata": {
        "id": "-OzEZg9HzP7Y"
      },
      "source": [
        "5. Каковы медиана и среднеквадрати́чное отклонение платежей (Fare)? Округлите до 2 десятичных знаков."
      ]
    },
    {
      "cell_type": "code",
      "execution_count": null,
      "metadata": {
        "colab": {
          "base_uri": "https://localhost:8080/"
        },
        "id": "vWT6DxjbzP7Y",
        "outputId": "94787169-ce43-46a1-e7cc-d3238c725051"
      },
      "outputs": [
        {
          "output_type": "stream",
          "name": "stdout",
          "text": [
            "Медиана платежей (Fare): 14.45\n",
            "Среднеквадратичное отклонение платежей (Fare): 49.69\n"
          ]
        }
      ],
      "source": [
        "import pandas as pd\n",
        "\n",
        "# Загрузка данных из файла titanic.csv\n",
        "df = pd.read_csv('titanic.csv', index_col='PassengerId')\n",
        "\n",
        "# Вычисление медианы и среднеквадратичного отклонения для столбца Fare\n",
        "fare_median = df['Fare'].median()\n",
        "fare_std = df['Fare'].std()\n",
        "\n",
        "# Округление до 2 десятичных знаков\n",
        "fare_median_rounded = round(fare_median, 2)\n",
        "fare_std_rounded = round(fare_std, 2)\n",
        "\n",
        "print(f\"Медиана платежей (Fare): {fare_median_rounded}\")\n",
        "print(f\"Среднеквадратичное отклонение платежей (Fare): {fare_std_rounded}\")"
      ]
    },
    {
      "cell_type": "markdown",
      "metadata": {
        "id": "bhZK0tRlzP7Y"
      },
      "source": [
        "6. Правда ли, что люди моложе 30 лет выживали чаще, чем люди старше 60 лет? Каковы доли выживших в обеих группах?"
      ]
    },
    {
      "cell_type": "code",
      "execution_count": null,
      "metadata": {
        "colab": {
          "base_uri": "https://localhost:8080/"
        },
        "id": "KWsPCYKgzP7Y",
        "outputId": "dc95e789-39a3-4630-f0d7-5b3860d53dd1"
      },
      "outputs": [
        {
          "output_type": "stream",
          "name": "stdout",
          "text": [
            "Доля выживших среди людей младше 30 лет: 0.41\n",
            "Доля выживших среди людей старше 60 лет: 0.23\n"
          ]
        }
      ],
      "source": [
        "import pandas as pd\n",
        "\n",
        "# Загрузка данных из файла titanic.csv\n",
        "df = pd.read_csv('titanic.csv', index_col='PassengerId')\n",
        "\n",
        "# Создание групп по возрасту\n",
        "young_group = df[df['Age'] < 30]\n",
        "old_group = df[df['Age'] > 60]\n",
        "\n",
        "# Вычисление доли выживших в каждой группе\n",
        "young_survival_rate = young_group['Survived'].mean()\n",
        "old_survival_rate = old_group['Survived'].mean()\n",
        "\n",
        "print(f\"Доля выживших среди людей младше 30 лет: {young_survival_rate:.2f}\")\n",
        "print(f\"Доля выживших среди людей старше 60 лет: {old_survival_rate:.2f}\")"
      ]
    },
    {
      "cell_type": "markdown",
      "metadata": {
        "id": "r05_lc9lzP7Y"
      },
      "source": [
        "7. Правда ли, что женщины выживали чаще мужчин? Каковы доли выживших в обеих группах?"
      ]
    },
    {
      "cell_type": "code",
      "execution_count": null,
      "metadata": {
        "colab": {
          "base_uri": "https://localhost:8080/"
        },
        "id": "wvDJIjOszP7Y",
        "outputId": "bd7014e3-8f45-4558-9951-91bd03708a7d"
      },
      "outputs": [
        {
          "output_type": "stream",
          "name": "stdout",
          "text": [
            "Доля выживших среди женщин: 0.74\n",
            "Доля выживших среди мужчин: 0.19\n"
          ]
        }
      ],
      "source": [
        "import pandas as pd\n",
        "\n",
        "# Загрузка данных из файла titanic.csv\n",
        "df = pd.read_csv('titanic.csv', index_col='PassengerId')\n",
        "\n",
        "# Создание групп по полу\n",
        "female_group = df[df['Sex'] == 'female']\n",
        "male_group = df[df['Sex'] == 'male']\n",
        "\n",
        "# Вычисление доли выживших в каждой группе\n",
        "female_survival_rate = female_group['Survived'].mean()\n",
        "male_survival_rate = male_group['Survived'].mean()\n",
        "\n",
        "print(f\"Доля выживших среди женщин: {female_survival_rate:.2f}\")\n",
        "print(f\"Доля выживших среди мужчин: {male_survival_rate:.2f}\")"
      ]
    },
    {
      "cell_type": "markdown",
      "metadata": {
        "id": "DkZX7EeBzP7Z"
      },
      "source": [
        "8.  Найдите самое популярное имя среди пассажиров Титаника мужского пола?"
      ]
    },
    {
      "cell_type": "code",
      "execution_count": null,
      "metadata": {
        "colab": {
          "base_uri": "https://localhost:8080/"
        },
        "id": "LBrUcocWzP7Z",
        "outputId": "961e3abe-0b76-4a26-aa95-02eefdd2d86a"
      },
      "outputs": [
        {
          "output_type": "stream",
          "name": "stdout",
          "text": [
            "Самое популярное имя среди пассажиров Титаника мужского пола: Mr. Pastcho\n"
          ]
        }
      ],
      "source": [
        "import pandas as pd\n",
        "\n",
        "# Загрузка данных из файла titanic.csv\n",
        "df = pd.read_csv('titanic.csv', index_col='PassengerId')\n",
        "\n",
        "# Фильтрация данных для мужчин\n",
        "male_passengers = df[df['Sex'] == 'male']\n",
        "\n",
        "# Извлечение имен и подсчет их частоты\n",
        "most_common_name = male_passengers['Name'].str.extract(r',\\s*(.+?)\\s+\\(')[0].value_counts().idxmax()\n",
        "\n",
        "print(f\"Самое популярное имя среди пассажиров Титаника мужского пола: {most_common_name}\")"
      ]
    },
    {
      "cell_type": "markdown",
      "metadata": {
        "id": "191logU5zP7Z"
      },
      "source": [
        "\n",
        "\n",
        "9. Как отличается средний возраст мужчин / женщин в зависимости от класса обслуживания? Выберите верные утверждения:\n",
        "\n",
        "    В среднем мужчины 1-го класса старше 40 лет\n",
        "    В среднем женщины 1-го класса старше 40 лет\n",
        "    Мужчины всех классов в среднем старше женщин того же класса\n",
        "    В среднем люди в 1 классе старше, чем во 2-ом, а те старше представителей 3-го класса\n",
        "\n"
      ]
    },
    {
      "cell_type": "code",
      "execution_count": null,
      "metadata": {
        "colab": {
          "base_uri": "https://localhost:8080/"
        },
        "id": "l1_De97RzP7Z",
        "outputId": "d6440434-1754-4bc7-f11c-d9cbd4d8c9cf"
      },
      "outputs": [
        {
          "output_type": "stream",
          "name": "stdout",
          "text": [
            "Sex        female       male\n",
            "Pclass                      \n",
            "1       34.611765  41.281386\n",
            "2       28.722973  30.740707\n",
            "3       21.750000  26.507589\n"
          ]
        }
      ],
      "source": [
        "import pandas as pd\n",
        "\n",
        "# Загрузка данных из файла titanic.csv\n",
        "df = pd.read_csv('titanic.csv', index_col='PassengerId')\n",
        "\n",
        "# Группировка данных по классу и полу, затем вычисление среднего возраста\n",
        "average_age = df.groupby(['Pclass', 'Sex'])['Age'].mean().unstack()\n",
        "\n",
        "print(average_age)"
      ]
    },
    {
      "cell_type": "markdown",
      "metadata": {
        "id": "i1-hTehtzP7Z"
      },
      "source": [
        "10. Сравните возраст у спасенных и у погибших пасажиров. Средний возраст погибших выше, верно?"
      ]
    },
    {
      "cell_type": "code",
      "execution_count": null,
      "metadata": {
        "colab": {
          "base_uri": "https://localhost:8080/"
        },
        "id": "w0-ykw6fzP7a",
        "outputId": "4748482d-3a90-4c9e-c9d8-488c555269a8"
      },
      "outputs": [
        {
          "output_type": "stream",
          "name": "stdout",
          "text": [
            "Survived\n",
            "0    30.626179\n",
            "1    28.343690\n",
            "Name: Age, dtype: float64\n"
          ]
        }
      ],
      "source": [
        "import pandas as pd\n",
        "\n",
        "# Загрузка данных из файла titanic.csv\n",
        "df = pd.read_csv('titanic.csv', index_col='PassengerId')\n",
        "\n",
        "# Группировка данных по статусу выживания и вычисление среднего возраста\n",
        "average_age_survival = df.groupby('Survived')['Age'].mean()\n",
        "\n",
        "print(average_age_survival)"
      ]
    },
    {
      "cell_type": "markdown",
      "metadata": {
        "id": "h5FsTefPzP7a"
      },
      "source": [
        "### Дополнительные вопросы для защиты\n",
        "\n",
        "1. Что такое медиана? Рассчитать медиану для предложенного ряда чисел.\n",
        "2. Что такое дисперсия? Рассчитать дисперсию для предложенного ряда чисел.\n",
        "3. Что такое среднеквадратичное отклонение? Рассчитать среднеквадратичное отклонение для предложенного ряда чисел.\n",
        "4. Что такое Series и чем он отличается от DataFrame\n",
        "5. Можно ли изменить индекс в Series после создания объекта?\n",
        "6. Можно ли выполнить операцию сложения над двумя объектами Series, если они имеют:\n",
        "- одинаковые типы данных, одинаковые размеры и одинаковые индексы?\n",
        "- одинаковые типы данных, одинаковые размеры, но разные индексы?,  \n",
        "- одинаковые типы данных, разные размеры и одинаковые индексы?\n",
        "- разные типы данных, одинаковые размеры и одинаковые индексы?\n",
        "- разные типы данных, одинаковые размеры и разные индексы?\n",
        "- разные типы данных, разные размеры и разные индексы?\n",
        "7. Что такое DataFrame и чем он отличается от Series\n",
        "8. Что необходимо сделать, чтобы число строк в DateFrame при его просмотре, по умолчанию составляло 8?\n",
        "9. Чем отличается метод iloc от метода loс\n",
        "10. Можно ли добавить в DateFrame дополнительный Series?\n",
        "11. Требуются ли установка дополнительных библиотек для загрузки с помощью pandas файлов в формате CSV? Excel (.xls)? Json?"
      ]
    }
  ],
  "metadata": {
    "kernelspec": {
      "display_name": "Python 3",
      "language": "python",
      "name": "python3"
    },
    "language_info": {
      "codemirror_mode": {
        "name": "ipython",
        "version": 3
      },
      "file_extension": ".py",
      "mimetype": "text/x-python",
      "name": "python",
      "nbconvert_exporter": "python",
      "pygments_lexer": "ipython3",
      "version": "3.12.2"
    },
    "colab": {
      "provenance": [],
      "include_colab_link": true
    }
  },
  "nbformat": 4,
  "nbformat_minor": 0
}