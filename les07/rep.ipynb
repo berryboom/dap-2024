{
  "cells": [
    {
      "cell_type": "markdown",
      "metadata": {
        "id": "view-in-github",
        "colab_type": "text"
      },
      "source": [
        "<a href=\"https://colab.research.google.com/github/berryboom/dap-2024/blob/main/les07/rep.ipynb\" target=\"_parent\"><img src=\"https://colab.research.google.com/assets/colab-badge.svg\" alt=\"Open In Colab\"/></a>"
      ]
    },
    {
      "cell_type": "markdown",
      "metadata": {
        "id": "RnGUIDZYNVLB"
      },
      "source": [
        "# Лабораторная работа №7. Классификация"
      ]
    },
    {
      "cell_type": "markdown",
      "metadata": {
        "id": "3R6SvYVvNVLC"
      },
      "source": [
        "Выполните следующие задания:\n",
        "\n",
        "1. Откройте в файл в Google Colab (используйте собственный форк репозитория).\n",
        "2. Решите задачи.\n",
        "3. Сохраните результат в виде файла rep.ipynb в ваш репозиторий github в директорию ./les07\n",
        "4. Создайте pull request в репозиторий https://github.com/chebotarevsa/dap-2024. Название pull request должно иметь формат \"<Номер лабораторной работы>  <Номер группы> <ФИО>\"\n",
        "5. Сдайте работу в системе \"Пегас\", в отчет укажите ссылку на pull request"
      ]
    },
    {
      "cell_type": "markdown",
      "metadata": {
        "id": "-lThQm2HNVLC"
      },
      "source": [
        "Используя набор данных titanic.csv постройте модель предсказывающую выжил или погиб пассажир.\n",
        "1.\tPassengerId – Идентификатор пассажира (уникальный номер для каждого пассажира).\n",
        "2.\tSurvived – Выжил (0 – не выжил, 1 – выжил).\n",
        "3.\tPclass – Класс пассажира (1 – первый класс, 2 – второй класс, 3 – третий класс).\n",
        "4.\tName – Имя (полное имя пассажира).\n",
        "5.\tSex – Пол (male – мужчина, female – женщина).\n",
        "6.\tAge – Возраст (числовое значение, может быть дробным).\n",
        "7.\tSibSp – Количество родственников на борту (братьев, сестер или супругов).\n",
        "8.\tParch – Количество родителей или детей на борту.\n",
        "9.\tTicket – Номер билета.\n",
        "10.\tFare – Стоимость билета (в фунтах стерлингов).\n",
        "11.\tCabin – Номер каюты (может быть пропущен, если данные отсутствуют).\n",
        "12.\tEmbarked – Порт посадки (C – Cherbourg, Q – Queenstown, S – Southampton)."
      ]
    },
    {
      "cell_type": "code",
      "execution_count": null,
      "metadata": {
        "id": "4HFGpXZUNVLC"
      },
      "outputs": [],
      "source": [
        "import sys\n",
        "import matplotlib as mpl\n",
        "import matplotlib.pyplot as plt\n",
        "import numpy as np\n",
        "import pandas as pd\n",
        "\n",
        "print(f\"Python version: {sys.version}\")\n",
        "print(f\"Numpy version: {np.version.version}\")\n",
        "print(f\"Pandas version: {pd.__version__}\")\n",
        "print(f\"Matplotlib version: {mpl.__version__}\")"
      ]
    },
    {
      "cell_type": "markdown",
      "metadata": {
        "id": "36faXIspNVLC"
      },
      "source": [
        "## Извлечение данных"
      ]
    },
    {
      "cell_type": "markdown",
      "metadata": {
        "id": "uG_R5-jUNVLD"
      },
      "source": [
        "1. Создайте DataFarame из файла titanic.csv, в качестве индекса используйте столбец \"PassengerId\"."
      ]
    },
    {
      "cell_type": "code",
      "execution_count": null,
      "metadata": {
        "colab": {
          "base_uri": "https://localhost:8080/"
        },
        "id": "uxwS3Or3NVLD",
        "outputId": "a7d62b7b-8c66-4ff8-eba8-2c50897618de"
      },
      "outputs": [
        {
          "output_type": "stream",
          "name": "stdout",
          "text": [
            "             Survived  Pclass  \\\n",
            "PassengerId                     \n",
            "1                   0       3   \n",
            "2                   1       1   \n",
            "3                   1       3   \n",
            "4                   1       1   \n",
            "5                   0       3   \n",
            "\n",
            "                                                          Name     Sex   Age  \\\n",
            "PassengerId                                                                    \n",
            "1                                      Braund, Mr. Owen Harris    male  22.0   \n",
            "2            Cumings, Mrs. John Bradley (Florence Briggs Th...  female  38.0   \n",
            "3                                       Heikkinen, Miss. Laina  female  26.0   \n",
            "4                 Futrelle, Mrs. Jacques Heath (Lily May Peel)  female  35.0   \n",
            "5                                     Allen, Mr. William Henry    male  35.0   \n",
            "\n",
            "             SibSp  Parch            Ticket     Fare Cabin Embarked  \n",
            "PassengerId                                                          \n",
            "1                1      0         A/5 21171   7.2500   NaN        S  \n",
            "2                1      0          PC 17599  71.2833   C85        C  \n",
            "3                0      0  STON/O2. 3101282   7.9250   NaN        S  \n",
            "4                1      0            113803  53.1000  C123        S  \n",
            "5                0      0            373450   8.0500   NaN        S  \n"
          ]
        }
      ],
      "source": [
        "import pandas as pd\n",
        "\n",
        "# Загрузка данных из файла titanic.csv\n",
        "data = pd.read_csv('titanic.csv', index_col='PassengerId')\n",
        "\n",
        "# Вывод первых 5 строк DataFrame\n",
        "print(data.head())\n",
        "\n"
      ]
    },
    {
      "cell_type": "markdown",
      "metadata": {
        "id": "IVMJvKa0NVLD"
      },
      "source": [
        "2. Выведете первые 7 строк набора."
      ]
    },
    {
      "cell_type": "code",
      "execution_count": null,
      "metadata": {
        "colab": {
          "base_uri": "https://localhost:8080/"
        },
        "id": "M84oagSxNVLD",
        "outputId": "9b111a15-22c6-4fb9-f8e3-cda9915d49bc"
      },
      "outputs": [
        {
          "output_type": "stream",
          "name": "stdout",
          "text": [
            "             Survived  Pclass  \\\n",
            "PassengerId                     \n",
            "1                   0       3   \n",
            "2                   1       1   \n",
            "3                   1       3   \n",
            "4                   1       1   \n",
            "5                   0       3   \n",
            "6                   0       3   \n",
            "7                   0       1   \n",
            "\n",
            "                                                          Name     Sex   Age  \\\n",
            "PassengerId                                                                    \n",
            "1                                      Braund, Mr. Owen Harris    male  22.0   \n",
            "2            Cumings, Mrs. John Bradley (Florence Briggs Th...  female  38.0   \n",
            "3                                       Heikkinen, Miss. Laina  female  26.0   \n",
            "4                 Futrelle, Mrs. Jacques Heath (Lily May Peel)  female  35.0   \n",
            "5                                     Allen, Mr. William Henry    male  35.0   \n",
            "6                                             Moran, Mr. James    male   NaN   \n",
            "7                                      McCarthy, Mr. Timothy J    male  54.0   \n",
            "\n",
            "             SibSp  Parch            Ticket     Fare Cabin Embarked  \n",
            "PassengerId                                                          \n",
            "1                1      0         A/5 21171   7.2500   NaN        S  \n",
            "2                1      0          PC 17599  71.2833   C85        C  \n",
            "3                0      0  STON/O2. 3101282   7.9250   NaN        S  \n",
            "4                1      0            113803  53.1000  C123        S  \n",
            "5                0      0            373450   8.0500   NaN        S  \n",
            "6                0      0            330877   8.4583   NaN        Q  \n",
            "7                0      0             17463  51.8625   E46        S  \n"
          ]
        }
      ],
      "source": [
        "import pandas as pd\n",
        "data = pd.read_csv('titanic.csv', index_col='PassengerId')\n",
        "print(data.head(7))\n"
      ]
    },
    {
      "cell_type": "markdown",
      "metadata": {
        "id": "JfBgc-I7NVLD"
      },
      "source": [
        "### Подготовка данных"
      ]
    },
    {
      "cell_type": "markdown",
      "metadata": {
        "id": "Ynm5YJ4INVLD"
      },
      "source": [
        "3. Выведете информацию о типах данных в наборе. Имеются ли в наборе не числовые признаки? Имеются ли в наборе данные имеющие значение null?\n",
        "    "
      ]
    },
    {
      "cell_type": "code",
      "execution_count": null,
      "metadata": {
        "colab": {
          "base_uri": "https://localhost:8080/"
        },
        "id": "qnuwUBY-NVLD",
        "outputId": "f72a79e2-65f8-493c-cd91-46b75b435e0f"
      },
      "outputs": [
        {
          "output_type": "stream",
          "name": "stdout",
          "text": [
            "Информация о типах данных:\n",
            "<class 'pandas.core.frame.DataFrame'>\n",
            "Index: 891 entries, 1 to 891\n",
            "Data columns (total 11 columns):\n",
            " #   Column    Non-Null Count  Dtype  \n",
            "---  ------    --------------  -----  \n",
            " 0   Survived  891 non-null    int64  \n",
            " 1   Pclass    891 non-null    int64  \n",
            " 2   Name      891 non-null    object \n",
            " 3   Sex       891 non-null    object \n",
            " 4   Age       714 non-null    float64\n",
            " 5   SibSp     891 non-null    int64  \n",
            " 6   Parch     891 non-null    int64  \n",
            " 7   Ticket    891 non-null    object \n",
            " 8   Fare      891 non-null    float64\n",
            " 9   Cabin     204 non-null    object \n",
            " 10  Embarked  889 non-null    object \n",
            "dtypes: float64(2), int64(4), object(5)\n",
            "memory usage: 83.5+ KB\n",
            "None\n",
            "\n",
            "Не числовые признаки:\n",
            "Index(['Name', 'Sex', 'Ticket', 'Cabin', 'Embarked'], dtype='object')\n",
            "\n",
            "Количество значений null в каждом столбце:\n",
            "Age         177\n",
            "Cabin       687\n",
            "Embarked      2\n",
            "dtype: int64\n"
          ]
        }
      ],
      "source": [
        "import pandas as pd\n",
        "data = pd.read_csv('titanic.csv', index_col='PassengerId')\n",
        "\n",
        "# Вывод информации о типах данных\n",
        "print(\"Информация о типах данных:\")\n",
        "print(data.info())\n",
        "\n",
        "# Проверка наличия не числовых признаков\n",
        "non_numeric_columns = data.select_dtypes(exclude=['number']).columns\n",
        "print(\"\\nНе числовые признаки:\")\n",
        "print(non_numeric_columns)\n",
        "\n",
        "# Проверка наличия значений null\n",
        "null_values = data.isnull().sum()\n",
        "print(\"\\nКоличество значений null в каждом столбце:\")\n",
        "print(null_values[null_values > 0])"
      ]
    },
    {
      "cell_type": "markdown",
      "metadata": {
        "id": "xqE4bVcnNVLD"
      },
      "source": [
        "4. Удалите не числовые признаки, которые по вашему мнению, не могут влиять на заначение выжил или погиб пассажир."
      ]
    },
    {
      "cell_type": "code",
      "execution_count": null,
      "metadata": {
        "colab": {
          "base_uri": "https://localhost:8080/"
        },
        "id": "i-0p2s2GNVLD",
        "outputId": "f5758d67-6efb-4a48-857f-a19415a0872f"
      },
      "outputs": [
        {
          "output_type": "stream",
          "name": "stdout",
          "text": [
            "             Survived  Pclass     Sex   Age  SibSp  Parch     Fare Embarked\n",
            "PassengerId                                                                \n",
            "1                   0       3    male  22.0      1      0   7.2500        S\n",
            "2                   1       1  female  38.0      1      0  71.2833        C\n",
            "3                   1       3  female  26.0      0      0   7.9250        S\n",
            "4                   1       1  female  35.0      1      0  53.1000        S\n",
            "5                   0       3    male  35.0      0      0   8.0500        S\n",
            "6                   0       3    male   NaN      0      0   8.4583        Q\n",
            "7                   0       1    male  54.0      0      0  51.8625        S\n"
          ]
        }
      ],
      "source": [
        "import pandas as pd\n",
        "data = pd.read_csv('titanic.csv', index_col='PassengerId')\n",
        "\n",
        "# Удаление не числовых признаков, которые не могут влиять на выживание\n",
        "data_cleaned = data.drop(columns=['Name', 'Ticket', 'Cabin'])\n",
        "\n",
        "# Вывод первых 7 строк очищенного DataFrame\n",
        "print(data_cleaned.head(7))"
      ]
    },
    {
      "cell_type": "markdown",
      "metadata": {
        "id": "A78FVEFZNVLD"
      },
      "source": [
        "5. Вместо признака \"Sex\" (я надеюсь вы его не удалили 😂) Создайте два новых признака male и female которые содержат значения 0 или 1."
      ]
    },
    {
      "cell_type": "code",
      "execution_count": null,
      "metadata": {
        "colab": {
          "base_uri": "https://localhost:8080/"
        },
        "id": "3_Xb3QpjNVLD",
        "outputId": "92a61527-f0b6-4825-d37a-95190f2a519f"
      },
      "outputs": [
        {
          "output_type": "stream",
          "name": "stdout",
          "text": [
            "             Survived  Pclass  \\\n",
            "PassengerId                     \n",
            "1                   0       3   \n",
            "2                   1       1   \n",
            "3                   1       3   \n",
            "4                   1       1   \n",
            "5                   0       3   \n",
            "6                   0       3   \n",
            "7                   0       1   \n",
            "\n",
            "                                                          Name     Sex   Age  \\\n",
            "PassengerId                                                                    \n",
            "1                                      Braund, Mr. Owen Harris    male  22.0   \n",
            "2            Cumings, Mrs. John Bradley (Florence Briggs Th...  female  38.0   \n",
            "3                                       Heikkinen, Miss. Laina  female  26.0   \n",
            "4                 Futrelle, Mrs. Jacques Heath (Lily May Peel)  female  35.0   \n",
            "5                                     Allen, Mr. William Henry    male  35.0   \n",
            "6                                             Moran, Mr. James    male   NaN   \n",
            "7                                      McCarthy, Mr. Timothy J    male  54.0   \n",
            "\n",
            "             SibSp  Parch            Ticket     Fare Cabin Embarked  male  \\\n",
            "PassengerId                                                                 \n",
            "1                1      0         A/5 21171   7.2500   NaN        S     1   \n",
            "2                1      0          PC 17599  71.2833   C85        C     0   \n",
            "3                0      0  STON/O2. 3101282   7.9250   NaN        S     0   \n",
            "4                1      0            113803  53.1000  C123        S     0   \n",
            "5                0      0            373450   8.0500   NaN        S     1   \n",
            "6                0      0            330877   8.4583   NaN        Q     1   \n",
            "7                0      0             17463  51.8625   E46        S     1   \n",
            "\n",
            "             female  \n",
            "PassengerId          \n",
            "1                 0  \n",
            "2                 1  \n",
            "3                 1  \n",
            "4                 1  \n",
            "5                 0  \n",
            "6                 0  \n",
            "7                 0  \n"
          ]
        }
      ],
      "source": [
        "import pandas as pd\n",
        "data = pd.read_csv('titanic.csv', index_col='PassengerId')\n",
        "\n",
        "# Создание новых признаков male и female\n",
        "data['male'] = data['Sex'].map({'male': 1, 'female': 0})\n",
        "data['female'] = data['Sex'].map({'male': 0, 'female': 1})\n",
        "\n",
        "# Вывод первых 7 строк обновленного DataFrame\n",
        "print(data.head(7))"
      ]
    },
    {
      "cell_type": "markdown",
      "metadata": {
        "id": "4xLrhFJ2NVLD"
      },
      "source": [
        "6. Удалите строки, которые содержать хотя бы одно null значение."
      ]
    },
    {
      "cell_type": "code",
      "execution_count": null,
      "metadata": {
        "colab": {
          "base_uri": "https://localhost:8080/"
        },
        "id": "TveQ2nEONVLD",
        "outputId": "4c5a18a0-4462-40c7-f643-601fcc443cee"
      },
      "outputs": [
        {
          "output_type": "stream",
          "name": "stdout",
          "text": [
            "             Survived  Pclass  \\\n",
            "PassengerId                     \n",
            "2                   1       1   \n",
            "4                   1       1   \n",
            "7                   0       1   \n",
            "11                  1       3   \n",
            "12                  1       1   \n",
            "22                  1       2   \n",
            "24                  1       1   \n",
            "\n",
            "                                                          Name     Sex   Age  \\\n",
            "PassengerId                                                                    \n",
            "2            Cumings, Mrs. John Bradley (Florence Briggs Th...  female  38.0   \n",
            "4                 Futrelle, Mrs. Jacques Heath (Lily May Peel)  female  35.0   \n",
            "7                                      McCarthy, Mr. Timothy J    male  54.0   \n",
            "11                             Sandstrom, Miss. Marguerite Rut  female   4.0   \n",
            "12                                    Bonnell, Miss. Elizabeth  female  58.0   \n",
            "22                                       Beesley, Mr. Lawrence    male  34.0   \n",
            "24                                Sloper, Mr. William Thompson    male  28.0   \n",
            "\n",
            "             SibSp  Parch    Ticket     Fare Cabin Embarked  \n",
            "PassengerId                                                  \n",
            "2                1      0  PC 17599  71.2833   C85        C  \n",
            "4                1      0    113803  53.1000  C123        S  \n",
            "7                0      0     17463  51.8625   E46        S  \n",
            "11               1      1   PP 9549  16.7000    G6        S  \n",
            "12               0      0    113783  26.5500  C103        S  \n",
            "22               0      0    248698  13.0000   D56        S  \n",
            "24               0      0    113788  35.5000    A6        S  \n"
          ]
        }
      ],
      "source": [
        "import pandas as pd\n",
        "\n",
        "data = pd.read_csv('titanic.csv', index_col='PassengerId')\n",
        "\n",
        "# Удаление строк с хотя бы одним null значением\n",
        "data_cleaned = data.dropna()\n",
        "\n",
        "# Вывод первых 7 строк очищенного DataFrame\n",
        "print(data_cleaned.head(7))"
      ]
    },
    {
      "cell_type": "markdown",
      "metadata": {
        "id": "NEz8vNxYNVLD"
      },
      "source": [
        "## Исследование данных"
      ]
    },
    {
      "cell_type": "markdown",
      "metadata": {
        "id": "NHwY1RzRNVLD"
      },
      "source": [
        "4. Нормализуйте значения признака \"Fare\"."
      ]
    },
    {
      "cell_type": "code",
      "execution_count": null,
      "metadata": {
        "colab": {
          "base_uri": "https://localhost:8080/"
        },
        "id": "3xCpV68QNVLD",
        "outputId": "a9442a70-7416-4eef-d9e2-529772e52997"
      },
      "outputs": [
        {
          "output_type": "stream",
          "name": "stdout",
          "text": [
            "                Fare  Fare_normalized\n",
            "PassengerId                          \n",
            "1             7.2500         0.014151\n",
            "2            71.2833         0.139136\n",
            "3             7.9250         0.015469\n",
            "4            53.1000         0.103644\n",
            "5             8.0500         0.015713\n",
            "6             8.4583         0.016510\n",
            "7            51.8625         0.101229\n"
          ]
        }
      ],
      "source": [
        "import pandas as pd\n",
        "data = pd.read_csv('titanic.csv', index_col='PassengerId')\n",
        "\n",
        "# Нормализация значений признака 'Fare' с использованием Min-Max нормализации\n",
        "data['Fare_normalized'] = (data['Fare'] - data['Fare'].min()) / (data['Fare'].max() - data['Fare'].min())\n",
        "\n",
        "# Вывод первых 7 строк обновленного DataFrame\n",
        "print(data[['Fare', 'Fare_normalized']].head(7))\n"
      ]
    },
    {
      "cell_type": "markdown",
      "metadata": {
        "id": "mawV9wizNVLD"
      },
      "source": [
        "5. Найдите разницу между средними значениями признака \"Fare\" для погибших и выживших пассажиров."
      ]
    },
    {
      "cell_type": "code",
      "execution_count": null,
      "metadata": {
        "colab": {
          "base_uri": "https://localhost:8080/"
        },
        "id": "ocIt3s4_NVLD",
        "outputId": "0589c099-7c91-45e2-9305-42fde4014452"
      },
      "outputs": [
        {
          "output_type": "stream",
          "name": "stdout",
          "text": [
            "Среднее значение 'Fare' для выживших: 48.39540760233918\n",
            "Среднее значение 'Fare' для погибших: 22.117886885245902\n",
            "Разница между средними значениями 'Fare': 26.27752071709328\n"
          ]
        }
      ],
      "source": [
        "import pandas as pd\n",
        "data = pd.read_csv('titanic.csv', index_col='PassengerId')\n",
        "\n",
        "# Группировка данных по признаку 'Survived' и вычисление средних значений 'Fare'\n",
        "mean_fare = data.groupby('Survived')['Fare'].mean()\n",
        "\n",
        "# Вычисление разницы между средними значениями\n",
        "difference = mean_fare[1] - mean_fare[0]\n",
        "\n",
        "# Вывод результатов\n",
        "print(f\"Среднее значение 'Fare' для выживших: {mean_fare[1]}\")\n",
        "print(f\"Среднее значение 'Fare' для погибших: {mean_fare[0]}\")\n",
        "print(f\"Разница между средними значениями 'Fare': {difference}\")"
      ]
    },
    {
      "cell_type": "markdown",
      "metadata": {
        "id": "DUGiBEMuNVLE"
      },
      "source": [
        "6. Простройте на одной оси координат гистограмы значений признака \"Fare\" для погибших и выживших пассажиров."
      ]
    },
    {
      "cell_type": "code",
      "execution_count": null,
      "metadata": {
        "colab": {
          "base_uri": "https://localhost:8080/",
          "height": 554
        },
        "id": "HTo9RJCzNVLE",
        "outputId": "97d34288-571e-436c-ec17-675657a6575c"
      },
      "outputs": [
        {
          "output_type": "display_data",
          "data": {
            "text/plain": [
              "<Figure size 1000x600 with 1 Axes>"
            ],
            "image/png": "[encoded data removed]"
          },
          "metadata": {}
        }
      ],
      "source": [
        "import pandas as pd\n",
        "import matplotlib.pyplot as plt\n",
        "data = pd.read_csv('titanic.csv', index_col='PassengerId')\n",
        "\n",
        "# Создание гистограммы\n",
        "plt.figure(figsize=(10, 6))\n",
        "\n",
        "# Гистограмма для выживших (Survived = 1)\n",
        "plt.hist(data[data['Survived'] == 1]['Fare'], bins=30, alpha=0.5, label='Выжившие', color='blue')\n",
        "\n",
        "# Гистограмма для погибших (Survived = 0)\n",
        "plt.hist(data[data['Survived'] == 0]['Fare'], bins=30, alpha=0.5, label='Погибшие', color='red')\n",
        "\n",
        "# Настройка графика\n",
        "plt.title('Гистограмма значений признака \"Fare\" для выживших и погибших пассажиров')\n",
        "plt.xlabel('Fare')\n",
        "plt.ylabel('Частота')\n",
        "plt.legend()\n",
        "plt.grid()\n",
        "\n",
        "# Показать график\n",
        "plt.show()"
      ]
    },
    {
      "cell_type": "markdown",
      "metadata": {
        "id": "BwfRdRHgNVLE"
      },
      "source": [
        "7. Сформируйте набор признаков (X). Сформируйте вектор целевых значений (y)."
      ]
    },
    {
      "cell_type": "code",
      "execution_count": null,
      "metadata": {
        "colab": {
          "base_uri": "https://localhost:8080/"
        },
        "id": "ACJgKTmqNVLE",
        "outputId": "9caaa76a-d0ae-4d25-f707-e36b8f1a53a8"
      },
      "outputs": [
        {
          "output_type": "stream",
          "name": "stdout",
          "text": [
            "Набор признаков (X):\n",
            "   Pclass Sex   Age  SibSp  Parch     Fare\n",
            "0       3   0  22.0      1      0   7.2500\n",
            "1       1   1  38.0      1      0  71.2833\n",
            "2       3   1  26.0      0      0   7.9250\n",
            "3       1   1  35.0      1      0  53.1000\n",
            "4       3   0  35.0      0      0   8.0500\n",
            "\n",
            "Вектор целевых значений (y):\n",
            "0    0\n",
            "1    1\n",
            "2    1\n",
            "3    1\n",
            "4    0\n",
            "Name: Survived, dtype: int64\n"
          ]
        }
      ],
      "source": [
        "import pandas as pd\n",
        "\n",
        "# Загрузка данных\n",
        "data = pd.read_csv('titanic.csv')\n",
        "\n",
        "# Выбор признаков (X)\n",
        "X = data[['Pclass', 'Sex', 'Age', 'SibSp', 'Parch', 'Fare']]\n",
        "\n",
        "# Преобразование категориального признака 'Sex' в числовой\n",
        "X.loc[:, 'Sex'] = X['Sex'].map({'male': 0, 'female': 1})\n",
        "\n",
        "# Заполнение пропусков в 'Age' средним значением\n",
        "X.loc[:, 'Age'] = X['Age'].fillna(X['Age'].mean())\n",
        "\n",
        "# Формирование вектора целевых значений (y)\n",
        "y = data['Survived']\n",
        "\n",
        "# Вывод результатов\n",
        "print(\"Набор признаков (X):\")\n",
        "print(X.head())\n",
        "print(\"\\nВектор целевых значений (y):\")\n",
        "print(y.head())"
      ]
    },
    {
      "cell_type": "markdown",
      "metadata": {
        "id": "GWvnkgkLNVLE"
      },
      "source": [
        "## Предсказательная модель"
      ]
    },
    {
      "cell_type": "markdown",
      "metadata": {
        "id": "jc08xx0ONVLE"
      },
      "source": [
        "8. Разделите набор данных на два, одни для обучения модели другой для проверки. Тестовый набор должен содержать 25 процентов данных."
      ]
    },
    {
      "cell_type": "code",
      "execution_count": null,
      "metadata": {
        "colab": {
          "base_uri": "https://localhost:8080/"
        },
        "id": "YQKvHxYxNVLE",
        "outputId": "9972d6ef-2232-4ccd-efd3-094db143ea09"
      },
      "outputs": [
        {
          "output_type": "stream",
          "name": "stdout",
          "text": [
            "Размер обучающего набора: (668, 6)\n",
            "Размер тестового набора: (223, 6)\n"
          ]
        }
      ],
      "source": [
        "import pandas as pd\n",
        "from sklearn.model_selection import train_test_split\n",
        "\n",
        "# Загрузка данных\n",
        "data = pd.read_csv('titanic.csv')\n",
        "\n",
        "# Выбор признаков (X) и целевых значений (y)\n",
        "X = data[['Pclass', 'Sex', 'Age', 'SibSp', 'Parch', 'Fare']]\n",
        "X.loc[:, 'Sex'] = X['Sex'].map({'male': 0, 'female': 1})\n",
        "X.loc[:, 'Age'] = X['Age'].fillna(X['Age'].mean())\n",
        "y = data['Survived']\n",
        "\n",
        "# Разделение данных на обучающую и тестовую выборки\n",
        "X_train, X_test, y_train, y_test = train_test_split(X, y, test_size=0.25, random_state=42)\n",
        "\n",
        "# Вывод размеров полученных наборов\n",
        "print(\"Размер обучающего набора:\", X_train.shape)\n",
        "print(\"Размер тестового набора:\", X_test.shape)"
      ]
    },
    {
      "cell_type": "markdown",
      "metadata": {
        "id": "hYZRh5IINVLE"
      },
      "source": [
        "9. Выполните обучение модели."
      ]
    },
    {
      "cell_type": "code",
      "execution_count": null,
      "metadata": {
        "colab": {
          "base_uri": "https://localhost:8080/"
        },
        "id": "_nHDkEiQNVLE",
        "outputId": "0ae8c71b-6cd8-495c-ff3f-7af778fda589"
      },
      "outputs": [
        {
          "output_type": "stream",
          "name": "stdout",
          "text": [
            "Точность модели: 0.8071748878923767\n",
            "\n",
            "Отчет о классификации:\n",
            "               precision    recall  f1-score   support\n",
            "\n",
            "           0       0.82      0.87      0.84       134\n",
            "           1       0.78      0.72      0.75        89\n",
            "\n",
            "    accuracy                           0.81       223\n",
            "   macro avg       0.80      0.79      0.80       223\n",
            "weighted avg       0.81      0.81      0.81       223\n",
            "\n"
          ]
        }
      ],
      "source": [
        "import pandas as pd\n",
        "from sklearn.model_selection import train_test_split\n",
        "from sklearn.linear_model import LogisticRegression\n",
        "from sklearn.metrics import accuracy_score, classification_report\n",
        "\n",
        "# Загрузка данных\n",
        "data = pd.read_csv('titanic.csv')\n",
        "\n",
        "# Выбор признаков (X) и целевых значений (y)\n",
        "X = data[['Pclass', 'Sex', 'Age', 'SibSp', 'Parch', 'Fare']]\n",
        "X.loc[:, 'Sex'] = X['Sex'].map({'male': 0, 'female': 1})\n",
        "X.loc[:, 'Age'] = X['Age'].fillna(X['Age'].mean())\n",
        "y = data['Survived']\n",
        "\n",
        "# Разделение данных на обучающую и тестовую выборки\n",
        "X_train, X_test, y_train, y_test = train_test_split(X, y, test_size=0.25, random_state=42)\n",
        "\n",
        "# Создание и обучение модели\n",
        "model = LogisticRegression()\n",
        "model.fit(X_train, y_train)\n",
        "\n",
        "# Прогнозирование на тестовой выборке\n",
        "y_pred = model.predict(X_test)\n",
        "\n",
        "# Оценка модели\n",
        "accuracy = accuracy_score(y_test, y_pred)\n",
        "report = classification_report(y_test, y_pred)\n",
        "\n",
        "# Вывод результатов\n",
        "print(\"Точность модели:\", accuracy)\n",
        "print(\"\\nОтчет о классификации:\\n\", report)"
      ]
    },
    {
      "cell_type": "markdown",
      "metadata": {
        "id": "lF8JTdHWNVLE"
      },
      "source": [
        "## Проверка модели"
      ]
    },
    {
      "cell_type": "markdown",
      "metadata": {
        "id": "hX418WWTNVLE"
      },
      "source": [
        "10. Выведите мартицу ошибок"
      ]
    },
    {
      "cell_type": "code",
      "execution_count": null,
      "metadata": {
        "colab": {
          "base_uri": "https://localhost:8080/"
        },
        "id": "RIfUHAJUNVLE",
        "outputId": "9391b0a2-03a8-4418-c7a2-f5656c8e820e"
      },
      "outputs": [
        {
          "output_type": "stream",
          "name": "stdout",
          "text": [
            "Точность модели: 0.8071748878923767\n",
            "\n",
            "Отчет о классификации:\n",
            "               precision    recall  f1-score   support\n",
            "\n",
            "           0       0.82      0.87      0.84       134\n",
            "           1       0.78      0.72      0.75        89\n",
            "\n",
            "    accuracy                           0.81       223\n",
            "   macro avg       0.80      0.79      0.80       223\n",
            "weighted avg       0.81      0.81      0.81       223\n",
            "\n",
            "\n",
            "Матрица ошибок:\n",
            " [[116  18]\n",
            " [ 25  64]]\n"
          ]
        }
      ],
      "source": [
        "import pandas as pd\n",
        "from sklearn.model_selection import train_test_split\n",
        "from sklearn.linear_model import LogisticRegression\n",
        "from sklearn.metrics import accuracy_score, classification_report, confusion_matrix\n",
        "\n",
        "# Загрузка данных\n",
        "data = pd.read_csv('titanic.csv')\n",
        "\n",
        "# Выбор признаков (X) и целевых значений (y)\n",
        "X = data[['Pclass', 'Sex', 'Age', 'SibSp', 'Parch', 'Fare']]\n",
        "X.loc[:, 'Sex'] = X['Sex'].map({'male': 0, 'female': 1})\n",
        "X.loc[:, 'Age'] = X['Age'].fillna(X['Age'].mean())\n",
        "y = data['Survived']\n",
        "\n",
        "# Разделение данных на обучающую и тестовую выборки\n",
        "X_train, X_test, y_train, y_test = train_test_split(X, y, test_size=0.25, random_state=42)\n",
        "\n",
        "# Создание и обучение модели\n",
        "model = LogisticRegression()\n",
        "model.fit(X_train, y_train)\n",
        "\n",
        "# Прогнозирование на тестовой выборке\n",
        "y_pred = model.predict(X_test)\n",
        "\n",
        "# Оценка модели\n",
        "accuracy = accuracy_score(y_test, y_pred)\n",
        "report = classification_report(y_test, y_pred)\n",
        "\n",
        "# Вывод результатов\n",
        "print(\"Точность модели:\", accuracy)\n",
        "print(\"\\nОтчет о классификации:\\n\", report)\n",
        "\n",
        "# Вывод матрицы ошибок\n",
        "conf_matrix = confusion_matrix(y_test, y_pred)\n",
        "print(\"\\nМатрица ошибок:\\n\", conf_matrix)"
      ]
    },
    {
      "cell_type": "markdown",
      "metadata": {
        "id": "8pIyj0f2NVLE"
      },
      "source": [
        "11. Расчитайте accuracy"
      ]
    },
    {
      "cell_type": "code",
      "execution_count": null,
      "metadata": {
        "colab": {
          "base_uri": "https://localhost:8080/"
        },
        "id": "YUJzNERTNVLE",
        "outputId": "1d4a0116-6390-4dc7-b9d0-87fb3d231054"
      },
      "outputs": [
        {
          "output_type": "stream",
          "name": "stdout",
          "text": [
            "Точность модели: 0.8071748878923767\n"
          ]
        }
      ],
      "source": [
        "from sklearn.metrics import accuracy_score\n",
        "\n",
        "# Предположим, что y_test - это истинные значения, а y_pred - предсказанные значения\n",
        "accuracy = accuracy_score(y_test, y_pred)\n",
        "\n",
        "print(\"Точность модели:\", accuracy)"
      ]
    },
    {
      "cell_type": "markdown",
      "metadata": {
        "id": "6zEIwamqNVLE"
      },
      "source": [
        "12. Сделайте вывод о полученном результате"
      ]
    },
    {
      "cell_type": "markdown",
      "metadata": {
        "id": "yHtSX2S8NVLE"
      },
      "source": [
        "*Вывод*:На основе полученных результатов я могу сделать следующие выводы:\n",
        "\n",
        "Точность модели (Accuracy): Значение точности показывает, насколько хорошо моя модель предсказывает целевую переменную, в данном случае — выживание на Титанике. Чем выше это значение, тем лучше модель справляется с задачей классификации. Например, если точность составляет 0.80, это означает, что 80% предсказаний модели были правильными.\n",
        "\n",
        "Отчет о классификации: Этот отчет предоставляет более детальную информацию о производительности модели, включая такие метрики, как точность (precision), полнота (recall) и F1-мера для каждого класса. Эти метрики помогают понять, как модель справляется с различными категориями, например, выжившими и не выжившими.\n",
        "\n",
        "Матрица ошибок (Confusion Matrix): Матрица ошибок показывает, сколько предсказаний было сделано правильно и неправильно для каждого класса. Она позволяет визуализировать, как часто модель путает один класс с другим. Например, если в матрице ошибок много ложных отрицательных (не выжившие, предсказанные как выжившие), это может указывать на необходимость улучшения модели.\n",
        "В целом, анализируя эти результаты, я могу оценить, насколько хорошо моя модель работает, и определить области для улучшения, такие как выбор других признаков, настройка гиперпараметров или использование других алгоритмов машинного обучения."
      ]
    },
    {
      "cell_type": "markdown",
      "metadata": {
        "id": "04WE5zy2NVLE"
      },
      "source": [
        "## Вопросы для защиты"
      ]
    },
    {
      "cell_type": "markdown",
      "metadata": {
        "id": "XJuUmddWNVLE"
      },
      "source": [
        "1. Сформулируйте задачу классификации.\n",
        "2. Перечислите типы классификации.\n",
        "3. В чем особенность несбалансированной классификации?\n",
        "4. В чем особенность мультиклассовой классификации?\n",
        "5. В чем особенность бинарной классификации?\n",
        "6. В чем особенность классификации по нескольким меткам?\n",
        "7. Чем стратегия \"Один против всех\" отличается от стратегии \"Один против одного\"?\n",
        "8. Что такое матрица ошибок (несоответствий)?\n",
        "9. Как рассчитывается Accuracy?\n",
        "10. Объясните алгоритм классификации K-ближайших соседей."
      ]
    }
  ],
  "metadata": {
    "kernelspec": {
      "display_name": "Python 3",
      "language": "python",
      "name": "python3"
    },
    "language_info": {
      "codemirror_mode": {
        "name": "ipython",
        "version": 3
      },
      "file_extension": ".py",
      "mimetype": "text/x-python",
      "name": "python",
      "nbconvert_exporter": "python",
      "pygments_lexer": "ipython3",
      "version": "3.12.2"
    },
    "colab": {
      "provenance": [],
      "include_colab_link": true
    }
  },
  "nbformat": 4,
  "nbformat_minor": 0
}